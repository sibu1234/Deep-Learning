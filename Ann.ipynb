{
  "nbformat": 4,
  "nbformat_minor": 0,
  "metadata": {
    "colab": {
      "name": "Untitled0.ipynb",
      "provenance": [],
      "mount_file_id": "100OCSeVAMxcTcGeHbzr7xabwCNDyR7H6",
      "authorship_tag": "ABX9TyM9flHvUzyXpKELoflKsSe6",
      "include_colab_link": true
    },
    "kernelspec": {
      "name": "python3",
      "display_name": "Python 3"
    },
    "accelerator": "GPU"
  },
  "cells": [
    {
      "cell_type": "markdown",
      "metadata": {
        "id": "view-in-github",
        "colab_type": "text"
      },
      "source": [
        "<a href=\"https://colab.research.google.com/github/sibu1234/Deep-Learning/blob/master/Ann.ipynb\" target=\"_parent\"><img src=\"https://colab.research.google.com/assets/colab-badge.svg\" alt=\"Open In Colab\"/></a>"
      ]
    },
    {
      "cell_type": "code",
      "metadata": {
        "id": "3FK0bGWKEbaC",
        "colab_type": "code",
        "colab": {
          "base_uri": "https://localhost:8080/",
          "height": 34
        },
        "outputId": "72610eb4-6501-4a8d-c8af-533fc7f71b7c"
      },
      "source": [
        "import tensorflow  as tf\n",
        "tf.test.gpu_device_name()"
      ],
      "execution_count": 1,
      "outputs": [
        {
          "output_type": "execute_result",
          "data": {
            "text/plain": [
              "'/device:GPU:0'"
            ]
          },
          "metadata": {
            "tags": []
          },
          "execution_count": 1
        }
      ]
    },
    {
      "cell_type": "code",
      "metadata": {
        "id": "UQfs8L3vGNRW",
        "colab_type": "code",
        "colab": {
          "base_uri": "https://localhost:8080/",
          "height": 476
        },
        "outputId": "dee49005-3f6f-4d5e-e8af-601bd56c39e8"
      },
      "source": [
        "from tensorflow.python.client import device_lib\n",
        "device_lib.list_local_devices()"
      ],
      "execution_count": 3,
      "outputs": [
        {
          "output_type": "execute_result",
          "data": {
            "text/plain": [
              "[name: \"/device:CPU:0\"\n",
              " device_type: \"CPU\"\n",
              " memory_limit: 268435456\n",
              " locality {\n",
              " }\n",
              " incarnation: 9430672461059765183, name: \"/device:XLA_CPU:0\"\n",
              " device_type: \"XLA_CPU\"\n",
              " memory_limit: 17179869184\n",
              " locality {\n",
              " }\n",
              " incarnation: 10158657179259542537\n",
              " physical_device_desc: \"device: XLA_CPU device\", name: \"/device:XLA_GPU:0\"\n",
              " device_type: \"XLA_GPU\"\n",
              " memory_limit: 17179869184\n",
              " locality {\n",
              " }\n",
              " incarnation: 876299311763287930\n",
              " physical_device_desc: \"device: XLA_GPU device\", name: \"/device:GPU:0\"\n",
              " device_type: \"GPU\"\n",
              " memory_limit: 11150726272\n",
              " locality {\n",
              "   bus_id: 1\n",
              "   links {\n",
              "   }\n",
              " }\n",
              " incarnation: 2857380765084850627\n",
              " physical_device_desc: \"device: 0, name: Tesla K80, pci bus id: 0000:00:04.0, compute capability: 3.7\"]"
            ]
          },
          "metadata": {
            "tags": []
          },
          "execution_count": 3
        }
      ]
    },
    {
      "cell_type": "code",
      "metadata": {
        "id": "MglZb07wHALL",
        "colab_type": "code",
        "colab": {
          "base_uri": "https://localhost:8080/",
          "height": 816
        },
        "outputId": "280d2169-8441-450c-a070-758a11116cda"
      },
      "source": [
        "!cat /proc/meminfo"
      ],
      "execution_count": 4,
      "outputs": [
        {
          "output_type": "stream",
          "text": [
            "MemTotal:       13333556 kB\n",
            "MemFree:         9437596 kB\n",
            "MemAvailable:   11999664 kB\n",
            "Buffers:           76148 kB\n",
            "Cached:          2627876 kB\n",
            "SwapCached:            0 kB\n",
            "Active:          1142560 kB\n",
            "Inactive:        2395448 kB\n",
            "Active(anon):     797184 kB\n",
            "Inactive(anon):     2376 kB\n",
            "Active(file):     345376 kB\n",
            "Inactive(file):  2393072 kB\n",
            "Unevictable:           0 kB\n",
            "Mlocked:               0 kB\n",
            "SwapTotal:             0 kB\n",
            "SwapFree:              0 kB\n",
            "Dirty:               568 kB\n",
            "Writeback:             0 kB\n",
            "AnonPages:        833960 kB\n",
            "Mapped:           580804 kB\n",
            "Shmem:              2996 kB\n",
            "Slab:             173640 kB\n",
            "SReclaimable:     129032 kB\n",
            "SUnreclaim:        44608 kB\n",
            "KernelStack:        3728 kB\n",
            "PageTables:         8348 kB\n",
            "NFS_Unstable:          0 kB\n",
            "Bounce:                0 kB\n",
            "WritebackTmp:          0 kB\n",
            "CommitLimit:     6666776 kB\n",
            "Committed_AS:    3089944 kB\n",
            "VmallocTotal:   34359738367 kB\n",
            "VmallocUsed:           0 kB\n",
            "VmallocChunk:          0 kB\n",
            "Percpu:              920 kB\n",
            "AnonHugePages:         0 kB\n",
            "ShmemHugePages:        0 kB\n",
            "ShmemPmdMapped:        0 kB\n",
            "HugePages_Total:       0\n",
            "HugePages_Free:        0\n",
            "HugePages_Rsvd:        0\n",
            "HugePages_Surp:        0\n",
            "Hugepagesize:       2048 kB\n",
            "Hugetlb:               0 kB\n",
            "DirectMap4k:      156860 kB\n",
            "DirectMap2M:     6133760 kB\n",
            "DirectMap1G:     9437184 kB\n"
          ],
          "name": "stdout"
        }
      ]
    },
    {
      "cell_type": "code",
      "metadata": {
        "id": "I_BJGwmcHQ7_",
        "colab_type": "code",
        "colab": {
          "base_uri": "https://localhost:8080/",
          "height": 955
        },
        "outputId": "c8324c50-f6ef-4f54-be9d-840a8bd404b6"
      },
      "source": [
        "!cat /proc/cpuinfo"
      ],
      "execution_count": 5,
      "outputs": [
        {
          "output_type": "stream",
          "text": [
            "processor\t: 0\n",
            "vendor_id\t: GenuineIntel\n",
            "cpu family\t: 6\n",
            "model\t\t: 63\n",
            "model name\t: Intel(R) Xeon(R) CPU @ 2.30GHz\n",
            "stepping\t: 0\n",
            "microcode\t: 0x1\n",
            "cpu MHz\t\t: 2300.000\n",
            "cache size\t: 46080 KB\n",
            "physical id\t: 0\n",
            "siblings\t: 2\n",
            "core id\t\t: 0\n",
            "cpu cores\t: 1\n",
            "apicid\t\t: 0\n",
            "initial apicid\t: 0\n",
            "fpu\t\t: yes\n",
            "fpu_exception\t: yes\n",
            "cpuid level\t: 13\n",
            "wp\t\t: yes\n",
            "flags\t\t: fpu vme de pse tsc msr pae mce cx8 apic sep mtrr pge mca cmov pat pse36 clflush mmx fxsr sse sse2 ss ht syscall nx pdpe1gb rdtscp lm constant_tsc rep_good nopl xtopology nonstop_tsc cpuid tsc_known_freq pni pclmulqdq ssse3 fma cx16 pcid sse4_1 sse4_2 x2apic movbe popcnt aes xsave avx f16c rdrand hypervisor lahf_lm abm invpcid_single ssbd ibrs ibpb stibp fsgsbase tsc_adjust bmi1 avx2 smep bmi2 erms invpcid xsaveopt arat md_clear arch_capabilities\n",
            "bugs\t\t: cpu_meltdown spectre_v1 spectre_v2 spec_store_bypass l1tf mds swapgs itlb_multihit\n",
            "bogomips\t: 4600.00\n",
            "clflush size\t: 64\n",
            "cache_alignment\t: 64\n",
            "address sizes\t: 46 bits physical, 48 bits virtual\n",
            "power management:\n",
            "\n",
            "processor\t: 1\n",
            "vendor_id\t: GenuineIntel\n",
            "cpu family\t: 6\n",
            "model\t\t: 63\n",
            "model name\t: Intel(R) Xeon(R) CPU @ 2.30GHz\n",
            "stepping\t: 0\n",
            "microcode\t: 0x1\n",
            "cpu MHz\t\t: 2300.000\n",
            "cache size\t: 46080 KB\n",
            "physical id\t: 0\n",
            "siblings\t: 2\n",
            "core id\t\t: 0\n",
            "cpu cores\t: 1\n",
            "apicid\t\t: 1\n",
            "initial apicid\t: 1\n",
            "fpu\t\t: yes\n",
            "fpu_exception\t: yes\n",
            "cpuid level\t: 13\n",
            "wp\t\t: yes\n",
            "flags\t\t: fpu vme de pse tsc msr pae mce cx8 apic sep mtrr pge mca cmov pat pse36 clflush mmx fxsr sse sse2 ss ht syscall nx pdpe1gb rdtscp lm constant_tsc rep_good nopl xtopology nonstop_tsc cpuid tsc_known_freq pni pclmulqdq ssse3 fma cx16 pcid sse4_1 sse4_2 x2apic movbe popcnt aes xsave avx f16c rdrand hypervisor lahf_lm abm invpcid_single ssbd ibrs ibpb stibp fsgsbase tsc_adjust bmi1 avx2 smep bmi2 erms invpcid xsaveopt arat md_clear arch_capabilities\n",
            "bugs\t\t: cpu_meltdown spectre_v1 spectre_v2 spec_store_bypass l1tf mds swapgs itlb_multihit\n",
            "bogomips\t: 4600.00\n",
            "clflush size\t: 64\n",
            "cache_alignment\t: 64\n",
            "address sizes\t: 46 bits physical, 48 bits virtual\n",
            "power management:\n",
            "\n"
          ],
          "name": "stdout"
        }
      ]
    },
    {
      "cell_type": "code",
      "metadata": {
        "id": "hSQXliUWLLkX",
        "colab_type": "code",
        "colab": {
          "base_uri": "https://localhost:8080/",
          "height": 122
        },
        "outputId": "73ef1576-801a-45a1-cc6c-c1de38b9949b"
      },
      "source": [
        "from google.colab import drive\n",
        "drive.mount('/content/drive', force_remount= True)"
      ],
      "execution_count": 7,
      "outputs": [
        {
          "output_type": "stream",
          "text": [
            "Go to this URL in a browser: https://accounts.google.com/o/oauth2/auth?client_id=947318989803-6bn6qk8qdgf4n4g3pfee6491hc0brc4i.apps.googleusercontent.com&redirect_uri=urn%3aietf%3awg%3aoauth%3a2.0%3aoob&response_type=code&scope=email%20https%3a%2f%2fwww.googleapis.com%2fauth%2fdocs.test%20https%3a%2f%2fwww.googleapis.com%2fauth%2fdrive%20https%3a%2f%2fwww.googleapis.com%2fauth%2fdrive.photos.readonly%20https%3a%2f%2fwww.googleapis.com%2fauth%2fpeopleapi.readonly\n",
            "\n",
            "Enter your authorization code:\n",
            "··········\n",
            "Mounted at /content/drive\n"
          ],
          "name": "stdout"
        }
      ]
    },
    {
      "cell_type": "code",
      "metadata": {
        "id": "Ldp5bXIbHl6A",
        "colab_type": "code",
        "colab": {}
      },
      "source": [
        "!pip install -q keras"
      ],
      "execution_count": 0,
      "outputs": []
    },
    {
      "cell_type": "code",
      "metadata": {
        "id": "GJfS0CgeJ5Xb",
        "colab_type": "code",
        "colab": {}
      },
      "source": [
        "import numpy as np\n",
        "import matplotlib.pyplot as plt\n",
        "import pandas as pd"
      ],
      "execution_count": 0,
      "outputs": []
    },
    {
      "cell_type": "code",
      "metadata": {
        "id": "XSlyA6vmKbsx",
        "colab_type": "code",
        "colab": {}
      },
      "source": [
        "dataset=pd.read_csv('/content/drive/My Drive/Learning Colab/Churn_Modelling.csv')\n"
      ],
      "execution_count": 0,
      "outputs": []
    },
    {
      "cell_type": "code",
      "metadata": {
        "id": "1XcfnzcpNLUh",
        "colab_type": "code",
        "colab": {}
      },
      "source": [
        "X=dataset.iloc[:,3:13]\n",
        "y=dataset.iloc[:,13]"
      ],
      "execution_count": 0,
      "outputs": []
    },
    {
      "cell_type": "code",
      "metadata": {
        "id": "qndU19HDNirp",
        "colab_type": "code",
        "colab": {}
      },
      "source": [
        "## create dummy variables\n",
        "geography=pd.get_dummies(X[\"Geography\"],drop_first=True)\n",
        "gender=pd.get_dummies(X['Gender'],drop_first=True)\n",
        "\n"
      ],
      "execution_count": 0,
      "outputs": []
    },
    {
      "cell_type": "code",
      "metadata": {
        "id": "F70UBdm1SbMN",
        "colab_type": "code",
        "colab": {}
      },
      "source": [
        "X=pd.concat([X,geography,gender],axis=1)\n",
        "\n",
        "## Drop Unnecessary columns\n",
        "X=X.drop(['Geography','Gender'],axis=1)"
      ],
      "execution_count": 0,
      "outputs": []
    },
    {
      "cell_type": "code",
      "metadata": {
        "id": "1xGNqLz9SnhF",
        "colab_type": "code",
        "colab": {}
      },
      "source": [
        "# Splitting the dataset into the Training set and Test set\n",
        "from sklearn.model_selection import train_test_split\n",
        "X_train, X_test, y_train, y_test = train_test_split(X, y, test_size = 0.2, random_state = 2)"
      ],
      "execution_count": 0,
      "outputs": []
    },
    {
      "cell_type": "code",
      "metadata": {
        "id": "xACYL5CZSwJn",
        "colab_type": "code",
        "colab": {}
      },
      "source": [
        "# Feature Scaling\n",
        "from sklearn.preprocessing import StandardScaler\n",
        "sc = StandardScaler()\n",
        "X_train = sc.fit_transform(X_train)\n",
        "X_test = sc.transform(X_test)"
      ],
      "execution_count": 0,
      "outputs": []
    },
    {
      "cell_type": "code",
      "metadata": {
        "id": "M4o1XouUS58r",
        "colab_type": "code",
        "colab": {}
      },
      "source": [
        "# Part 2 - Now let's make the ANN!\n",
        "\n",
        "# Importing the Keras libraries and packages\n",
        "import keras\n",
        "from keras.models import Sequential\n",
        "from keras.layers import Dense\n",
        "from keras.layers import LeakyReLU,PReLU,ELU\n",
        "from keras.layers import Dropout"
      ],
      "execution_count": 0,
      "outputs": []
    },
    {
      "cell_type": "code",
      "metadata": {
        "id": "fQwPEqrKTOCJ",
        "colab_type": "code",
        "colab": {}
      },
      "source": [
        "# Initialising the ANN\n",
        "classifier = Sequential()"
      ],
      "execution_count": 0,
      "outputs": []
    },
    {
      "cell_type": "code",
      "metadata": {
        "id": "EduvtitBTXTE",
        "colab_type": "code",
        "colab": {}
      },
      "source": [
        "# Adding the input layer and the first hidden layer\n",
        "classifier.add(Dense(units=6, kernel_initializer='he_uniform',activation='relu',input_dim = 11))\n",
        "\n",
        "# Adding the second hidden layer\n",
        "classifier.add(Dense(units=6,  kernel_initializer= 'he_uniform',activation='relu'))\n",
        "# Adding the output layer\n",
        "classifier.add(Dense(units= 1, kernel_initializer= 'glorot_uniform', activation = 'sigmoid'))\n"
      ],
      "execution_count": 0,
      "outputs": []
    },
    {
      "cell_type": "code",
      "metadata": {
        "id": "UgzPvxZeUVQa",
        "colab_type": "code",
        "colab": {
          "base_uri": "https://localhost:8080/",
          "height": 1000
        },
        "outputId": "acf25b5a-fb23-45b2-e0e2-fb9a5b15d0f5"
      },
      "source": [
        " #Compiling the ANN\n",
        "classifier.compile(optimizer = 'Adamax', loss = 'binary_crossentropy', metrics = ['accuracy'])\n",
        "\n",
        "# Fitting the ANN to the Training set\n",
        "model_history=classifier.fit(X_train, y_train,validation_split=0.33, batch_size = 10, nb_epoch = 100)\n"
      ],
      "execution_count": 28,
      "outputs": [
        {
          "output_type": "stream",
          "text": [
            "/usr/local/lib/python3.6/dist-packages/ipykernel_launcher.py:5: UserWarning: The `nb_epoch` argument in `fit` has been renamed `epochs`.\n",
            "  \"\"\"\n"
          ],
          "name": "stderr"
        },
        {
          "output_type": "stream",
          "text": [
            "Train on 5359 samples, validate on 2641 samples\n",
            "Epoch 1/100\n",
            "5359/5359 [==============================] - 3s 586us/step - loss: 0.6319 - accuracy: 0.7266 - val_loss: 0.5650 - val_accuracy: 0.8008\n",
            "Epoch 2/100\n",
            "5359/5359 [==============================] - 3s 557us/step - loss: 0.5452 - accuracy: 0.7895 - val_loss: 0.5174 - val_accuracy: 0.8008\n",
            "Epoch 3/100\n",
            "5359/5359 [==============================] - 3s 571us/step - loss: 0.5202 - accuracy: 0.7895 - val_loss: 0.5028 - val_accuracy: 0.8008\n",
            "Epoch 4/100\n",
            "5359/5359 [==============================] - 3s 525us/step - loss: 0.5125 - accuracy: 0.7895 - val_loss: 0.4971 - val_accuracy: 0.8008\n",
            "Epoch 5/100\n",
            "5359/5359 [==============================] - 3s 506us/step - loss: 0.5075 - accuracy: 0.7895 - val_loss: 0.4916 - val_accuracy: 0.8008\n",
            "Epoch 6/100\n",
            "5359/5359 [==============================] - 3s 505us/step - loss: 0.5016 - accuracy: 0.7895 - val_loss: 0.4836 - val_accuracy: 0.8008\n",
            "Epoch 7/100\n",
            "5359/5359 [==============================] - 3s 512us/step - loss: 0.4918 - accuracy: 0.7923 - val_loss: 0.4695 - val_accuracy: 0.8061\n",
            "Epoch 8/100\n",
            "5359/5359 [==============================] - 3s 540us/step - loss: 0.4771 - accuracy: 0.8016 - val_loss: 0.4555 - val_accuracy: 0.8118\n",
            "Epoch 9/100\n",
            "5359/5359 [==============================] - 3s 509us/step - loss: 0.4651 - accuracy: 0.8097 - val_loss: 0.4459 - val_accuracy: 0.8205\n",
            "Epoch 10/100\n",
            "5359/5359 [==============================] - 3s 505us/step - loss: 0.4566 - accuracy: 0.8136 - val_loss: 0.4377 - val_accuracy: 0.8217\n",
            "Epoch 11/100\n",
            "5359/5359 [==============================] - 3s 530us/step - loss: 0.4476 - accuracy: 0.8164 - val_loss: 0.4284 - val_accuracy: 0.8254\n",
            "Epoch 12/100\n",
            "5359/5359 [==============================] - 3s 544us/step - loss: 0.4379 - accuracy: 0.8192 - val_loss: 0.4195 - val_accuracy: 0.8281\n",
            "Epoch 13/100\n",
            "5359/5359 [==============================] - 3s 614us/step - loss: 0.4288 - accuracy: 0.8252 - val_loss: 0.4122 - val_accuracy: 0.8323\n",
            "Epoch 14/100\n",
            "5359/5359 [==============================] - 3s 556us/step - loss: 0.4214 - accuracy: 0.8296 - val_loss: 0.4044 - val_accuracy: 0.8364\n",
            "Epoch 15/100\n",
            "5359/5359 [==============================] - 3s 599us/step - loss: 0.4154 - accuracy: 0.8311 - val_loss: 0.3993 - val_accuracy: 0.8383\n",
            "Epoch 16/100\n",
            "5359/5359 [==============================] - 3s 526us/step - loss: 0.4108 - accuracy: 0.8322 - val_loss: 0.3954 - val_accuracy: 0.8421\n",
            "Epoch 17/100\n",
            "5359/5359 [==============================] - 3s 520us/step - loss: 0.4070 - accuracy: 0.8350 - val_loss: 0.3930 - val_accuracy: 0.8432\n",
            "Epoch 18/100\n",
            "5359/5359 [==============================] - 3s 580us/step - loss: 0.4037 - accuracy: 0.8365 - val_loss: 0.3908 - val_accuracy: 0.8436\n",
            "Epoch 19/100\n",
            "5359/5359 [==============================] - 3s 576us/step - loss: 0.4009 - accuracy: 0.8375 - val_loss: 0.3885 - val_accuracy: 0.8440\n",
            "Epoch 20/100\n",
            "5359/5359 [==============================] - 3s 517us/step - loss: 0.3976 - accuracy: 0.8393 - val_loss: 0.3868 - val_accuracy: 0.8440\n",
            "Epoch 21/100\n",
            "5359/5359 [==============================] - 3s 506us/step - loss: 0.3952 - accuracy: 0.8414 - val_loss: 0.3858 - val_accuracy: 0.8440\n",
            "Epoch 22/100\n",
            "5359/5359 [==============================] - 3s 568us/step - loss: 0.3929 - accuracy: 0.8410 - val_loss: 0.3840 - val_accuracy: 0.8459\n",
            "Epoch 23/100\n",
            "5359/5359 [==============================] - 3s 559us/step - loss: 0.3903 - accuracy: 0.8433 - val_loss: 0.3819 - val_accuracy: 0.8466\n",
            "Epoch 24/100\n",
            "5359/5359 [==============================] - 3s 512us/step - loss: 0.3886 - accuracy: 0.8440 - val_loss: 0.3811 - val_accuracy: 0.8459\n",
            "Epoch 25/100\n",
            "5359/5359 [==============================] - 3s 531us/step - loss: 0.3867 - accuracy: 0.8451 - val_loss: 0.3798 - val_accuracy: 0.8451\n",
            "Epoch 26/100\n",
            "5359/5359 [==============================] - 3s 509us/step - loss: 0.3848 - accuracy: 0.8464 - val_loss: 0.3778 - val_accuracy: 0.8474\n",
            "Epoch 27/100\n",
            "5359/5359 [==============================] - 3s 508us/step - loss: 0.3831 - accuracy: 0.8494 - val_loss: 0.3767 - val_accuracy: 0.8463\n",
            "Epoch 28/100\n",
            "5359/5359 [==============================] - 3s 529us/step - loss: 0.3817 - accuracy: 0.8485 - val_loss: 0.3771 - val_accuracy: 0.8463\n",
            "Epoch 29/100\n",
            "5359/5359 [==============================] - 3s 531us/step - loss: 0.3802 - accuracy: 0.8505 - val_loss: 0.3748 - val_accuracy: 0.8489\n",
            "Epoch 30/100\n",
            "5359/5359 [==============================] - 3s 517us/step - loss: 0.3783 - accuracy: 0.8524 - val_loss: 0.3757 - val_accuracy: 0.8455\n",
            "Epoch 31/100\n",
            "5359/5359 [==============================] - 3s 513us/step - loss: 0.3775 - accuracy: 0.8531 - val_loss: 0.3729 - val_accuracy: 0.8501\n",
            "Epoch 32/100\n",
            "5359/5359 [==============================] - 3s 557us/step - loss: 0.3763 - accuracy: 0.8520 - val_loss: 0.3748 - val_accuracy: 0.8448\n",
            "Epoch 33/100\n",
            "5359/5359 [==============================] - 3s 576us/step - loss: 0.3753 - accuracy: 0.8526 - val_loss: 0.3704 - val_accuracy: 0.8497\n",
            "Epoch 34/100\n",
            "5359/5359 [==============================] - 3s 555us/step - loss: 0.3745 - accuracy: 0.8518 - val_loss: 0.3696 - val_accuracy: 0.8478\n",
            "Epoch 35/100\n",
            "5359/5359 [==============================] - 3s 581us/step - loss: 0.3730 - accuracy: 0.8537 - val_loss: 0.3707 - val_accuracy: 0.8478\n",
            "Epoch 36/100\n",
            "5359/5359 [==============================] - 3s 534us/step - loss: 0.3722 - accuracy: 0.8539 - val_loss: 0.3685 - val_accuracy: 0.8508\n",
            "Epoch 37/100\n",
            "5359/5359 [==============================] - 3s 520us/step - loss: 0.3708 - accuracy: 0.8543 - val_loss: 0.3678 - val_accuracy: 0.8470\n",
            "Epoch 38/100\n",
            "5359/5359 [==============================] - 3s 512us/step - loss: 0.3697 - accuracy: 0.8559 - val_loss: 0.3670 - val_accuracy: 0.8504\n",
            "Epoch 39/100\n",
            "5359/5359 [==============================] - 3s 539us/step - loss: 0.3693 - accuracy: 0.8546 - val_loss: 0.3667 - val_accuracy: 0.8489\n",
            "Epoch 40/100\n",
            "5359/5359 [==============================] - 3s 519us/step - loss: 0.3684 - accuracy: 0.8559 - val_loss: 0.3656 - val_accuracy: 0.8501\n",
            "Epoch 41/100\n",
            "5359/5359 [==============================] - 3s 551us/step - loss: 0.3676 - accuracy: 0.8556 - val_loss: 0.3645 - val_accuracy: 0.8493\n",
            "Epoch 42/100\n",
            "5359/5359 [==============================] - 3s 529us/step - loss: 0.3669 - accuracy: 0.8561 - val_loss: 0.3653 - val_accuracy: 0.8489\n",
            "Epoch 43/100\n",
            "5359/5359 [==============================] - 3s 546us/step - loss: 0.3663 - accuracy: 0.8552 - val_loss: 0.3635 - val_accuracy: 0.8504\n",
            "Epoch 44/100\n",
            "5359/5359 [==============================] - 3s 542us/step - loss: 0.3655 - accuracy: 0.8569 - val_loss: 0.3627 - val_accuracy: 0.8497\n",
            "Epoch 45/100\n",
            "5359/5359 [==============================] - 3s 515us/step - loss: 0.3647 - accuracy: 0.8550 - val_loss: 0.3642 - val_accuracy: 0.8501\n",
            "Epoch 46/100\n",
            "5359/5359 [==============================] - 3s 515us/step - loss: 0.3648 - accuracy: 0.8554 - val_loss: 0.3616 - val_accuracy: 0.8516\n",
            "Epoch 47/100\n",
            "5359/5359 [==============================] - 3s 544us/step - loss: 0.3640 - accuracy: 0.8561 - val_loss: 0.3630 - val_accuracy: 0.8497\n",
            "Epoch 48/100\n",
            "5359/5359 [==============================] - 3s 569us/step - loss: 0.3634 - accuracy: 0.8558 - val_loss: 0.3612 - val_accuracy: 0.8512\n",
            "Epoch 49/100\n",
            "5359/5359 [==============================] - 3s 506us/step - loss: 0.3631 - accuracy: 0.8561 - val_loss: 0.3602 - val_accuracy: 0.8516\n",
            "Epoch 50/100\n",
            "5359/5359 [==============================] - 3s 584us/step - loss: 0.3621 - accuracy: 0.8571 - val_loss: 0.3593 - val_accuracy: 0.8523\n",
            "Epoch 51/100\n",
            "5359/5359 [==============================] - 3s 527us/step - loss: 0.3619 - accuracy: 0.8580 - val_loss: 0.3589 - val_accuracy: 0.8538\n",
            "Epoch 52/100\n",
            "5359/5359 [==============================] - 3s 512us/step - loss: 0.3621 - accuracy: 0.8559 - val_loss: 0.3583 - val_accuracy: 0.8527\n",
            "Epoch 53/100\n",
            "5359/5359 [==============================] - 3s 560us/step - loss: 0.3610 - accuracy: 0.8556 - val_loss: 0.3582 - val_accuracy: 0.8535\n",
            "Epoch 54/100\n",
            "5359/5359 [==============================] - 3s 518us/step - loss: 0.3611 - accuracy: 0.8561 - val_loss: 0.3578 - val_accuracy: 0.8531\n",
            "Epoch 55/100\n",
            "5359/5359 [==============================] - 3s 525us/step - loss: 0.3606 - accuracy: 0.8576 - val_loss: 0.3572 - val_accuracy: 0.8531\n",
            "Epoch 56/100\n",
            "5359/5359 [==============================] - 3s 574us/step - loss: 0.3601 - accuracy: 0.8582 - val_loss: 0.3574 - val_accuracy: 0.8516\n",
            "Epoch 57/100\n",
            "5359/5359 [==============================] - 3s 594us/step - loss: 0.3598 - accuracy: 0.8569 - val_loss: 0.3564 - val_accuracy: 0.8523\n",
            "Epoch 58/100\n",
            "5359/5359 [==============================] - 3s 614us/step - loss: 0.3594 - accuracy: 0.8572 - val_loss: 0.3556 - val_accuracy: 0.8538\n",
            "Epoch 59/100\n",
            "5359/5359 [==============================] - 3s 524us/step - loss: 0.3590 - accuracy: 0.8572 - val_loss: 0.3558 - val_accuracy: 0.8516\n",
            "Epoch 60/100\n",
            "5359/5359 [==============================] - 3s 509us/step - loss: 0.3587 - accuracy: 0.8552 - val_loss: 0.3559 - val_accuracy: 0.8523\n",
            "Epoch 61/100\n",
            "5359/5359 [==============================] - 3s 513us/step - loss: 0.3578 - accuracy: 0.8582 - val_loss: 0.3549 - val_accuracy: 0.8531\n",
            "Epoch 62/100\n",
            "5359/5359 [==============================] - 3s 506us/step - loss: 0.3579 - accuracy: 0.8554 - val_loss: 0.3538 - val_accuracy: 0.8535\n",
            "Epoch 63/100\n",
            "5359/5359 [==============================] - 3s 512us/step - loss: 0.3573 - accuracy: 0.8574 - val_loss: 0.3526 - val_accuracy: 0.8527\n",
            "Epoch 64/100\n",
            "5359/5359 [==============================] - 3s 577us/step - loss: 0.3567 - accuracy: 0.8580 - val_loss: 0.3528 - val_accuracy: 0.8554\n",
            "Epoch 65/100\n",
            "5359/5359 [==============================] - 3s 562us/step - loss: 0.3572 - accuracy: 0.8559 - val_loss: 0.3520 - val_accuracy: 0.8565\n",
            "Epoch 66/100\n",
            "5359/5359 [==============================] - 3s 530us/step - loss: 0.3563 - accuracy: 0.8571 - val_loss: 0.3549 - val_accuracy: 0.8504\n",
            "Epoch 67/100\n",
            "5359/5359 [==============================] - 3s 580us/step - loss: 0.3564 - accuracy: 0.8571 - val_loss: 0.3509 - val_accuracy: 0.8576\n",
            "Epoch 68/100\n",
            "5359/5359 [==============================] - 3s 536us/step - loss: 0.3552 - accuracy: 0.8565 - val_loss: 0.3503 - val_accuracy: 0.8550\n",
            "Epoch 69/100\n",
            "5359/5359 [==============================] - 3s 542us/step - loss: 0.3548 - accuracy: 0.8608 - val_loss: 0.3511 - val_accuracy: 0.8595\n",
            "Epoch 70/100\n",
            "5359/5359 [==============================] - 3s 569us/step - loss: 0.3550 - accuracy: 0.8586 - val_loss: 0.3504 - val_accuracy: 0.8569\n",
            "Epoch 71/100\n",
            "5359/5359 [==============================] - 3s 505us/step - loss: 0.3546 - accuracy: 0.8572 - val_loss: 0.3529 - val_accuracy: 0.8576\n",
            "Epoch 72/100\n",
            "5359/5359 [==============================] - 3s 527us/step - loss: 0.3538 - accuracy: 0.8582 - val_loss: 0.3476 - val_accuracy: 0.8576\n",
            "Epoch 73/100\n",
            "5359/5359 [==============================] - 3s 543us/step - loss: 0.3531 - accuracy: 0.8599 - val_loss: 0.3475 - val_accuracy: 0.8591\n",
            "Epoch 74/100\n",
            "5359/5359 [==============================] - 3s 513us/step - loss: 0.3530 - accuracy: 0.8587 - val_loss: 0.3468 - val_accuracy: 0.8607\n",
            "Epoch 75/100\n",
            "5359/5359 [==============================] - 3s 529us/step - loss: 0.3522 - accuracy: 0.8589 - val_loss: 0.3488 - val_accuracy: 0.8614\n",
            "Epoch 76/100\n",
            "5359/5359 [==============================] - 3s 503us/step - loss: 0.3521 - accuracy: 0.8565 - val_loss: 0.3465 - val_accuracy: 0.8603\n",
            "Epoch 77/100\n",
            "5359/5359 [==============================] - 3s 572us/step - loss: 0.3517 - accuracy: 0.8559 - val_loss: 0.3463 - val_accuracy: 0.8641\n",
            "Epoch 78/100\n",
            "5359/5359 [==============================] - 3s 521us/step - loss: 0.3509 - accuracy: 0.8586 - val_loss: 0.3473 - val_accuracy: 0.8618\n",
            "Epoch 79/100\n",
            "5359/5359 [==============================] - 3s 505us/step - loss: 0.3508 - accuracy: 0.8614 - val_loss: 0.3475 - val_accuracy: 0.8629\n",
            "Epoch 80/100\n",
            "5359/5359 [==============================] - 3s 506us/step - loss: 0.3508 - accuracy: 0.8606 - val_loss: 0.3468 - val_accuracy: 0.8622\n",
            "Epoch 81/100\n",
            "5359/5359 [==============================] - 3s 547us/step - loss: 0.3504 - accuracy: 0.8559 - val_loss: 0.3454 - val_accuracy: 0.8629\n",
            "Epoch 82/100\n",
            "5359/5359 [==============================] - 3s 509us/step - loss: 0.3502 - accuracy: 0.8574 - val_loss: 0.3452 - val_accuracy: 0.8641\n",
            "Epoch 83/100\n",
            "5359/5359 [==============================] - 3s 508us/step - loss: 0.3498 - accuracy: 0.8578 - val_loss: 0.3471 - val_accuracy: 0.8614\n",
            "Epoch 84/100\n",
            "5359/5359 [==============================] - 3s 539us/step - loss: 0.3493 - accuracy: 0.8589 - val_loss: 0.3442 - val_accuracy: 0.8629\n",
            "Epoch 85/100\n",
            "5359/5359 [==============================] - 3s 550us/step - loss: 0.3492 - accuracy: 0.8608 - val_loss: 0.3433 - val_accuracy: 0.8652\n",
            "Epoch 86/100\n",
            "5359/5359 [==============================] - 3s 511us/step - loss: 0.3493 - accuracy: 0.8576 - val_loss: 0.3436 - val_accuracy: 0.8637\n",
            "Epoch 87/100\n",
            "5359/5359 [==============================] - 3s 547us/step - loss: 0.3494 - accuracy: 0.8589 - val_loss: 0.3449 - val_accuracy: 0.8622\n",
            "Epoch 88/100\n",
            "5359/5359 [==============================] - 3s 534us/step - loss: 0.3485 - accuracy: 0.8582 - val_loss: 0.3425 - val_accuracy: 0.8633\n",
            "Epoch 89/100\n",
            "5359/5359 [==============================] - 3s 510us/step - loss: 0.3481 - accuracy: 0.8559 - val_loss: 0.3415 - val_accuracy: 0.8652\n",
            "Epoch 90/100\n",
            "5359/5359 [==============================] - 3s 512us/step - loss: 0.3477 - accuracy: 0.8584 - val_loss: 0.3430 - val_accuracy: 0.8610\n",
            "Epoch 91/100\n",
            "5359/5359 [==============================] - 3s 567us/step - loss: 0.3479 - accuracy: 0.8571 - val_loss: 0.3436 - val_accuracy: 0.8599\n",
            "Epoch 92/100\n",
            "5359/5359 [==============================] - 3s 521us/step - loss: 0.3479 - accuracy: 0.8587 - val_loss: 0.3417 - val_accuracy: 0.8626\n",
            "Epoch 93/100\n",
            "5359/5359 [==============================] - 3s 511us/step - loss: 0.3477 - accuracy: 0.8572 - val_loss: 0.3444 - val_accuracy: 0.8607\n",
            "Epoch 94/100\n",
            "5359/5359 [==============================] - 3s 522us/step - loss: 0.3475 - accuracy: 0.8565 - val_loss: 0.3422 - val_accuracy: 0.8626\n",
            "Epoch 95/100\n",
            "5359/5359 [==============================] - 3s 572us/step - loss: 0.3471 - accuracy: 0.8597 - val_loss: 0.3410 - val_accuracy: 0.8648\n",
            "Epoch 96/100\n",
            "5359/5359 [==============================] - 3s 536us/step - loss: 0.3469 - accuracy: 0.8608 - val_loss: 0.3404 - val_accuracy: 0.8663\n",
            "Epoch 97/100\n",
            "5359/5359 [==============================] - 3s 622us/step - loss: 0.3470 - accuracy: 0.8571 - val_loss: 0.3410 - val_accuracy: 0.8648\n",
            "Epoch 98/100\n",
            "5359/5359 [==============================] - 3s 538us/step - loss: 0.3462 - accuracy: 0.8582 - val_loss: 0.3416 - val_accuracy: 0.8641\n",
            "Epoch 99/100\n",
            "5359/5359 [==============================] - 3s 505us/step - loss: 0.3464 - accuracy: 0.8578 - val_loss: 0.3414 - val_accuracy: 0.8660\n",
            "Epoch 100/100\n",
            "5359/5359 [==============================] - 3s 548us/step - loss: 0.3461 - accuracy: 0.8584 - val_loss: 0.3393 - val_accuracy: 0.8694\n"
          ],
          "name": "stdout"
        }
      ]
    },
    {
      "cell_type": "code",
      "metadata": {
        "id": "cLJ0lEMpVp8Z",
        "colab_type": "code",
        "colab": {
          "base_uri": "https://localhost:8080/",
          "height": 312
        },
        "outputId": "c27393ea-8b5b-4b5b-d8ac-7e9afa74c61e"
      },
      "source": [
        "# list all data in history\n",
        "\n",
        "print(model_history.history.keys())\n",
        "# summarize history for accuracy\n",
        "plt.plot(model_history.history['accuracy'])\n",
        "plt.plot(model_history.history['val_accuracy'])\n",
        "plt.title('model accuracy')\n",
        "plt.ylabel('accuracy')\n",
        "plt.xlabel('epoch')\n",
        "plt.legend(['train', 'test'], loc='upper left')\n",
        "plt.show()"
      ],
      "execution_count": 30,
      "outputs": [
        {
          "output_type": "stream",
          "text": [
            "dict_keys(['val_loss', 'val_accuracy', 'loss', 'accuracy'])\n"
          ],
          "name": "stdout"
        },
        {
          "output_type": "display_data",
          "data": {
            "image/png": "[encoded data removed]",
            "text/plain": [
              "<Figure size 432x288 with 1 Axes>"
            ]
          },
          "metadata": {
            "tags": [],
            "needs_background": "light"
          }
        }
      ]
    },
    {
      "cell_type": "code",
      "metadata": {
        "id": "uaR8xr2tV_MG",
        "colab_type": "code",
        "colab": {
          "base_uri": "https://localhost:8080/",
          "height": 295
        },
        "outputId": "810789a3-6b39-4021-afe6-c652d63060c0"
      },
      "source": [
        "# summarize history for loss\n",
        "plt.plot(model_history.history['loss'])\n",
        "plt.plot(model_history.history['val_loss'])\n",
        "plt.title('model loss')\n",
        "plt.ylabel('loss')\n",
        "plt.xlabel('epoch')\n",
        "plt.legend(['train', 'test'], loc='upper left')\n",
        "plt.show()"
      ],
      "execution_count": 31,
      "outputs": [
        {
          "output_type": "display_data",
          "data": {
            "image/png": "[encoded data removed]",
            "text/plain": [
              "<Figure size 432x288 with 1 Axes>"
            ]
          },
          "metadata": {
            "tags": [],
            "needs_background": "light"
          }
        }
      ]
    },
    {
      "cell_type": "code",
      "metadata": {
        "id": "KLX-lTscWX4v",
        "colab_type": "code",
        "colab": {}
      },
      "source": [
        "# Part 3 - Making the predictions and evaluating the model\n",
        "\n",
        "# Predicting the Test set results\n",
        "y_pred = classifier.predict(X_test)\n",
        "y_pred = (y_pred > 0.5)"
      ],
      "execution_count": 0,
      "outputs": []
    },
    {
      "cell_type": "code",
      "metadata": {
        "id": "fwvY-AnPWo4u",
        "colab_type": "code",
        "colab": {}
      },
      "source": [
        "# Making the Confusion Matrix\n",
        "from sklearn.metrics import confusion_matrix\n",
        "cm = confusion_matrix(y_test, y_pred)\n",
        "\n",
        "# Calculate the Accuracy\n",
        "from sklearn.metrics import accuracy_score\n",
        "score=accuracy_score(y_pred,y_test)"
      ],
      "execution_count": 0,
      "outputs": []
    },
    {
      "cell_type": "code",
      "metadata": {
        "id": "lQxAKekHWu3X",
        "colab_type": "code",
        "colab": {}
      },
      "source": [
        ""
      ],
      "execution_count": 0,
      "outputs": []
    }
  ]
}